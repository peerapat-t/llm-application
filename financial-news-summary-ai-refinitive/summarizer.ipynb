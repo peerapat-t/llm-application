{
 "cells": [
  {
   "cell_type": "code",
   "execution_count": 29,
   "metadata": {},
   "outputs": [],
   "source": [
    "# !pip install -q requests==2.32.3\n",
    "# !pip install -q openai==1.41.1\n",
    "# !pip install -q langchain==0.2.2\n",
    "# !pip install -q langchain_community==0.2.3\n",
    "# !pip install -q langchain-openai==0.1.8\n",
    "# !pip install -q langgraph==0.0.64"
   ]
  },
  {
   "cell_type": "code",
   "execution_count": 30,
   "metadata": {},
   "outputs": [],
   "source": [
    "# !pip install refinitiv.data"
   ]
  },
  {
   "cell_type": "markdown",
   "metadata": {},
   "source": [
    "# 1. Package"
   ]
  },
  {
   "cell_type": "code",
   "execution_count": 31,
   "metadata": {},
   "outputs": [],
   "source": [
    "import refinitiv.data as rd\n",
    "from refinitiv.data.content import news\n",
    "from IPython.display import HTML\n",
    "import pandas as pd\n",
    "import numpy as np\n",
    "from datetime import datetime,timedelta\n",
    "import time\n",
    "import warnings\n",
    "warnings.filterwarnings(\"ignore\")"
   ]
  },
  {
   "cell_type": "code",
   "execution_count": 32,
   "metadata": {},
   "outputs": [],
   "source": [
    "from openai import OpenAI\n",
    "import json"
   ]
  },
  {
   "cell_type": "code",
   "execution_count": 33,
   "metadata": {},
   "outputs": [],
   "source": [
    "from pprint import pprint"
   ]
  },
  {
   "cell_type": "markdown",
   "metadata": {},
   "source": [
    "set refinitive session"
   ]
  },
  {
   "cell_type": "code",
   "execution_count": null,
   "metadata": {},
   "outputs": [],
   "source": [
    "rd.open_session()"
   ]
  },
  {
   "cell_type": "markdown",
   "metadata": {},
   "source": [
    "set open ai api key"
   ]
  },
  {
   "cell_type": "code",
   "execution_count": 35,
   "metadata": {},
   "outputs": [],
   "source": [
    "OPENAI_API_KEY = ''"
   ]
  },
  {
   "cell_type": "code",
   "execution_count": 36,
   "metadata": {},
   "outputs": [],
   "source": [
    "client = OpenAI(api_key=OPENAI_API_KEY)"
   ]
  },
  {
   "cell_type": "markdown",
   "metadata": {},
   "source": [
    "# 2. define agent"
   ]
  },
  {
   "cell_type": "markdown",
   "metadata": {},
   "source": [
    "2.1 screening agent"
   ]
  },
  {
   "cell_type": "code",
   "execution_count": 37,
   "metadata": {},
   "outputs": [],
   "source": [
    "def screening_agent(prompt, text):\n",
    "    completion = client.chat.completions.create(\n",
    "        model=\"gpt-4o-2024-08-06\",\n",
    "        messages=[\n",
    "            {\"role\": \"system\", \"content\": prompt},\n",
    "            {\"role\": \"user\", \"content\": text}\n",
    "        ],\n",
    "        temperature=0,\n",
    "        response_format={\"type\": \"json_object\"}\n",
    "    )\n",
    "    return json.loads(completion.choices[0].message.content)"
   ]
  },
  {
   "cell_type": "markdown",
   "metadata": {},
   "source": [
    "2.2 cleaning agent"
   ]
  },
  {
   "cell_type": "code",
   "execution_count": 38,
   "metadata": {},
   "outputs": [],
   "source": [
    "def cleaning_agent(prompt, text):\n",
    "    completion = client.chat.completions.create(\n",
    "        model=\"gpt-4o-2024-08-06\",\n",
    "        messages=[\n",
    "            {\"role\": \"system\", \"content\": prompt},\n",
    "            {\"role\": \"user\", \"content\": text}\n",
    "        ],\n",
    "        temperature=0,\n",
    "    )\n",
    "    return completion.choices[0].message.content"
   ]
  },
  {
   "cell_type": "markdown",
   "metadata": {},
   "source": [
    "2.3 summarizer agent"
   ]
  },
  {
   "cell_type": "code",
   "execution_count": 39,
   "metadata": {},
   "outputs": [],
   "source": [
    "def summarize_agent(prompt, text):\n",
    "    completion = client.chat.completions.create(\n",
    "        model=\"gpt-4o-2024-08-06\",\n",
    "        messages=[\n",
    "            {\"role\": \"system\", \"content\": prompt},\n",
    "            {\"role\": \"user\", \"content\": text}\n",
    "        ],\n",
    "        temperature=0.1\n",
    "    )\n",
    "    return completion.choices[0].message.content"
   ]
  },
  {
   "cell_type": "markdown",
   "metadata": {},
   "source": [
    "2.4 translate agent"
   ]
  },
  {
   "cell_type": "code",
   "execution_count": 40,
   "metadata": {},
   "outputs": [],
   "source": [
    "def translate_agent(prompt, text):\n",
    "    completion = client.chat.completions.create(\n",
    "        model=\"gpt-4o-2024-08-06\",\n",
    "        messages=[\n",
    "            {\"role\": \"system\", \"content\": prompt},\n",
    "            {\"role\": \"user\", \"content\": text}\n",
    "        ],\n",
    "        temperature=0.3,\n",
    "    )\n",
    "    return completion.choices[0].message.content"
   ]
  },
  {
   "cell_type": "markdown",
   "metadata": {},
   "source": [
    "2.5 get data function"
   ]
  },
  {
   "cell_type": "code",
   "execution_count": 41,
   "metadata": {},
   "outputs": [],
   "source": [
    "def get_date(code,start,end,num):\n",
    "    # get headline\n",
    "    df = rd.news.get_headlines(code, count=num, start=start, end=end).reset_index()\n",
    "    # get story\n",
    "    story_list = []\n",
    "    for idx, storyId in enumerate(df['storyId'].values):\n",
    "        try:\n",
    "            story_news = rd.news.get_story(storyId, format='text')\n",
    "            story_list.append(story_news)\n",
    "        except:\n",
    "            story_news = ''\n",
    "            story_list.append(story_news)\n",
    "    df['story'] = story_list\n",
    "    return df"
   ]
  },
  {
   "cell_type": "markdown",
   "metadata": {},
   "source": [
    "# 3. set prompt"
   ]
  },
  {
   "cell_type": "code",
   "execution_count": 42,
   "metadata": {},
   "outputs": [],
   "source": [
    "screening_prompt = \"\"\"\n",
    "As an experienced <region> economics researcher, your task is to read news headlines and score their relevance to the overview of <region> economy.\n",
    "\n",
    "Use the following scoring system:\n",
    "- 0 means the headline is not related to the overview of <region> economy.\n",
    "- 10 means the headline is highly related to the overview of <region> economy.\n",
    "Respond in JSON format, where the key 'related_score' holds the value of the score.\n",
    "\n",
    "Examples:\n",
    "News headline: \"<region> stock market record: Optimism.\"\n",
    "Response: {'related_score': 9}\n",
    "\n",
    "News headline: \"Local festival attracts thousands of visitors.\"\n",
    "Response: {'related_score': 0}\n",
    "\"\"\""
   ]
  },
  {
   "cell_type": "code",
   "execution_count": 43,
   "metadata": {},
   "outputs": [],
   "source": [
    "clearning_prompt = \"\"\"\n",
    "You are tasked with cleaning up a messy article that may contain HTML tags, URLs, or advertisements.\n",
    "Your job is to return the article in a readable format while maintaining any necessary numbers that may affect the content.\n",
    "\n",
    "Please follow these guidelines:\n",
    "Identify and retain important numerical data within the article.\n",
    "Remove all unnecessary HTML tags, URLs, and advertisements.\n",
    "Clean up any other extraneous content that does not contribute to the article's main message or context.\n",
    "\n",
    "For example:\n",
    "Input:\n",
    "\"\n",
    "Attack submarines are designed to seek and destroy enemy submarines and surface ships;\n",
    "project power ashore with Tomahawk cruise missiles and Special Operation Forces (SOF);\n",
    "carry out Intelligence, Surveillance and Reconnaissance (ISR) missions; support battle group operations; and engage in mine warfare.\n",
    "More information on attack submarines can be found here\n",
    "(https://www.navy.mil/Resources/Fact-Files/Display-FactFiles/Article/2169558/attack-submarines-ssn/).\n",
    "Disclaimer\n",
    "The United States Navy published this content on September 27, 2024 and is solely responsible for the information contained herein.\n",
    "Distributed by Public, unedited and unaltered, on September 27, 2024 at 23:59:38 UTC.\n",
    "© Copyright 2024 - The United States Navy\n",
    "\"\n",
    "\n",
    "Output:\n",
    "\"\n",
    "Attack submarines are designed to seek and destroy enemy submarines and surface ships;\n",
    "project power ashore with Tomahawk cruise missiles and Special Operation Forces (SOF);\n",
    "carry out Intelligence, Surveillance and Reconnaissance (ISR) missions; support battle group operations; and engage in mine warfare.\n",
    "\"\n",
    "\"\"\""
   ]
  },
  {
   "cell_type": "code",
   "execution_count": 44,
   "metadata": {},
   "outputs": [],
   "source": [
    "summarize_prompt = \"\"\"\n",
    "You are an expert <region> economics researcher. You will be provided lists of news.\n",
    "Your task is to understand all of it then summarize all of it in your word into \"Summary format\" provided below.\n",
    "Focus only news that impact on overview's economy.\n",
    "\n",
    "Summary format:\n",
    "[Summarize paragraph]\n",
    "[Detail bullet 1, if necessary]\n",
    "[Detail bullet 2, if necessary]\n",
    "[Detail bullet 3, if necessary]\n",
    "\n",
    "Rules:\n",
    "- Explain using simple words so people who are not in the financial sector can understand.\n",
    "- Do not use any idioms or phrases in the summary.\n",
    "- Do not use any obscure words or sentences.\n",
    "\"\"\""
   ]
  },
  {
   "cell_type": "code",
   "execution_count": 45,
   "metadata": {},
   "outputs": [],
   "source": [
    "translate_prompt = \"\"\"\n",
    "You are an expert Thai translator who specializes in economics.\n",
    "You will be provided with a article that needs to be translated into Thai.\n",
    "Your task is to translated into Thai.\n",
    "- If the article contains specific financial terms, translate them while keeping the original English word in the format \"Thai word (English word)\".\n",
    "- If the article contains name of person or market, translate them while keeping the original English word in the format \"Thai word (English word)\".\n",
    "\"\"\""
   ]
  },
  {
   "cell_type": "code",
   "execution_count": 46,
   "metadata": {},
   "outputs": [],
   "source": [
    "search_keyword_us = \"\"\"\n",
    "(R:.DJI AND Topic:MCE AND Language:LEN)\n",
    "OR (R:.SPX AND Topic:MCE AND Language:LEN)\n",
    "OR (R:.NDX AND Topic:MCE AND Language:LEN)\n",
    "OR (R:.NYA AND Topic:MCE AND Language:LEN)\n",
    "\"\"\""
   ]
  },
  {
   "cell_type": "code",
   "execution_count": 47,
   "metadata": {},
   "outputs": [],
   "source": [
    "search_keyword_cn = \"\"\"\n",
    "(R:.SSEC AND Topic:MCE AND Language:LEN)\n",
    "OR (R:.SZSC AND Topic:MCE AND Language:LEN)\n",
    "OR (R:.CSI300 AND Topic:MCE AND Language:LEN)\n",
    "OR (R:.HSI AND Topic:MCE AND Language:LEN)\n",
    "\"\"\""
   ]
  },
  {
   "cell_type": "code",
   "execution_count": 48,
   "metadata": {},
   "outputs": [],
   "source": [
    "search_keyword_jp = 'R:.N225 AND Topic:MCE AND LEN'"
   ]
  },
  {
   "cell_type": "markdown",
   "metadata": {},
   "source": [
    "# 4. summarizer function"
   ]
  },
  {
   "cell_type": "code",
   "execution_count": 49,
   "metadata": {},
   "outputs": [],
   "source": [
    "# choice US or CN or JP"
   ]
  },
  {
   "cell_type": "code",
   "execution_count": 50,
   "metadata": {},
   "outputs": [],
   "source": [
    "def news_summarize(start, end, region):\n",
    "\n",
    "    # get news (maximum 1000 news each region)\n",
    "    if region == 'US':\n",
    "        df = get_date(search_keyword_us, start, end, 1000)\n",
    "    elif region == 'CN':\n",
    "        df = get_date(search_keyword_cn, start, end, 1000)\n",
    "    elif region == 'JP':\n",
    "        df = get_date(search_keyword_jp, start, end, 1000)\n",
    "\n",
    "    # relationship score\n",
    "    related_score_list = []\n",
    "    for headline in df['headline']:\n",
    "        if region == 'US':\n",
    "            score = screening_agent(screening_prompt.replace('<region>','United State of America (U.S.)'), headline)['related_score']\n",
    "        elif region == 'CN':\n",
    "            score = screening_agent(screening_prompt.replace('<region>','China'), headline)['related_score']\n",
    "        elif region == 'JP':\n",
    "            score = screening_agent(screening_prompt.replace('<region>','Japan'), headline)['related_score']\n",
    "        related_score_list.append(score)\n",
    "    df['related_score'] = related_score_list\n",
    "\n",
    "    # get top 10 headline\n",
    "    df_top = df[df['related_score'] >= 8].sort_values(by='related_score', ascending=False).head(10)\n",
    "    df_top = df_top.reset_index(drop='True')\n",
    "\n",
    "    # combine all news\n",
    "    long_message = ''\n",
    "    for index, row in df_top.iterrows():\n",
    "        index_plus = index + 1\n",
    "        headline_number = '[News number' + str(index_plus) + ']'\n",
    "        headline = 'Headline: ' + row['headline']\n",
    "        story = 'Story: ' + row['story']\n",
    "        full_story = headline_number + headline + story\n",
    "        long_message = long_message + full_story\n",
    "\n",
    "    # summarize to eng\n",
    "    en_summarize = summarize_agent(summarize_prompt, long_message)\n",
    "\n",
    "    # translate to thai\n",
    "    th_summarize = translate_agent(translate_prompt, en_summarize)\n",
    "    \n",
    "    print('English version:')\n",
    "    print(en_summarize)\n",
    "    print('Thai version:')\n",
    "    print(th_summarize)\n",
    "    print('----------------------------------------------')"
   ]
  },
  {
   "cell_type": "markdown",
   "metadata": {},
   "source": [
    "# 5. test"
   ]
  },
  {
   "cell_type": "code",
   "execution_count": 51,
   "metadata": {},
   "outputs": [],
   "source": [
    "region_list = ['US','CN','JP']"
   ]
  },
  {
   "cell_type": "code",
   "execution_count": 52,
   "metadata": {},
   "outputs": [
    {
     "name": "stdout",
     "output_type": "stream",
     "text": [
      "English version:\n",
      "The U.S. economy showed unexpected strength in September, with 254,000 new jobs added, surpassing forecasts of 147,000. This strong job growth led to a decrease in the unemployment rate to 4.1% from 4.2%. The robust labor market performance has reduced the likelihood of the Federal Reserve implementing large interest rate cuts in the near future. The positive job data has boosted investor confidence, leading to a rise in stock markets and a strengthening of the U.S. dollar.\n",
      "\n",
      "- The U.S. job market added significantly more jobs than expected, with revisions to previous months also showing higher job growth.\n",
      "- The unemployment rate fell to 4.1%, indicating a resilient labor market.\n",
      "- The strong job report has led to a decrease in expectations for large interest rate cuts by the Federal Reserve, with markets now anticipating smaller, more gradual rate reductions.\n",
      "- The positive economic data has resulted in a surge in stock markets, with major indices like the Nasdaq and S&P 500 experiencing gains.\n",
      "Thai version:\n",
      "เศรษฐกิจสหรัฐฯ แสดงความแข็งแกร่งอย่างไม่คาดคิดในเดือนกันยายน โดยมีการเพิ่มงานใหม่ 254,000 ตำแหน่ง ซึ่งเกินกว่าที่คาดการณ์ไว้ที่ 147,000 ตำแหน่ง การเติบโตของงานที่แข็งแกร่งนี้นำไปสู่การลดลงของอัตราการว่างงานเป็น 4.1% จาก 4.2% ผลการดำเนินงานของตลาดแรงงานที่แข็งแกร่งได้ลดความเป็นไปได้ที่ธนาคารกลางสหรัฐฯ (Federal Reserve) จะดำเนินการลดอัตราดอกเบี้ยครั้งใหญ่ในอนาคตอันใกล้ ข้อมูลการจ้างงานที่เป็นบวกได้เพิ่มความเชื่อมั่นของนักลงทุน นำไปสู่การเพิ่มขึ้นของตลาดหุ้นและการแข็งค่าของเงินดอลลาร์สหรัฐฯ\n",
      "\n",
      "- ตลาดงานสหรัฐฯ เพิ่มงานมากกว่าที่คาดการณ์ไว้อย่างมีนัยสำคัญ โดยการปรับปรุงข้อมูลในเดือนก่อนหน้านี้ก็แสดงให้เห็นถึงการเติบโตของงานที่สูงขึ้น\n",
      "- อัตราการว่างงานลดลงเหลือ 4.1% ซึ่งบ่งบอกถึงตลาดแรงงานที่มีความยืดหยุ่น\n",
      "- รายงานการจ้างงานที่แข็งแกร่งได้นำไปสู่การลดลงของความคาดหวังในการลดอัตราดอกเบี้ยครั้งใหญ่โดยธนาคารกลางสหรัฐฯ (Federal Reserve) โดยตลาดขณะนี้คาดการณ์ว่าจะมีการลดอัตราดอกเบี้ยที่เล็กลงและค่อยเป็นค่อยไป\n",
      "- ข้อมูลเศรษฐกิจที่เป็นบวกส่งผลให้ตลาดหุ้นพุ่งขึ้น โดยดัชนีหลักอย่าง Nasdaq และ S&P 500 มีการเพิ่มขึ้น\n",
      "----------------------------------------------\n",
      "English version:\n",
      "China has introduced a significant economic stimulus package aimed at boosting its domestic economy. This has led to a substantial increase in stock market values, attracting attention from investors worldwide. The Shanghai Composite Index saw a notable rise, and there is optimism about the potential for lower inflation. The People's Bank of China plans to reduce the reserve requirement ratio, which could release a large amount of money for new lending. However, despite these measures, there are concerns about weak credit demand and the overall effectiveness of the stimulus in achieving long-term economic recovery. Foreign investors remain cautious, seeking more reforms to ensure sustainable growth.\n",
      "\n",
      "- The Shanghai Composite Index increased by 8.06% in one day and has risen nearly 22% since September 20.\n",
      "- The People's Bank of China plans to cut the reserve requirement ratio by 50 basis points, potentially freeing up about 1 trillion yuan for lending.\n",
      "- Despite the stock market rally, there are concerns about weak credit demand and the need for more sustainable economic reforms to attract long-term foreign investment.\n",
      "Thai version:\n",
      "จีนได้แนะนำมาตรการกระตุ้นเศรษฐกิจที่สำคัญเพื่อกระตุ้นเศรษฐกิจภายในประเทศ ซึ่งทำให้มูลค่าตลาดหุ้นเพิ่มขึ้นอย่างมาก ดึงดูดความสนใจจากนักลงทุนทั่วโลก ดัชนีคอมโพสิตเซี่ยงไฮ้ (Shanghai Composite Index) มีการเพิ่มขึ้นอย่างเห็นได้ชัด และมีความหวังเกี่ยวกับโอกาสในการลดอัตราเงินเฟ้อ ธนาคารประชาชนจีน (People's Bank of China) วางแผนที่จะลดอัตราส่วนเงินสำรอง (reserve requirement ratio) ซึ่งอาจปล่อยเงินจำนวนมากสำหรับการปล่อยกู้ใหม่ อย่างไรก็ตาม แม้จะมีมาตรการเหล่านี้ ก็ยังมีความกังวลเกี่ยวกับความต้องการสินเชื่อที่อ่อนแอและประสิทธิภาพโดยรวมของมาตรการกระตุ้นในการฟื้นฟูเศรษฐกิจในระยะยาว นักลงทุนต่างชาติยังคงระมัดระวัง โดยต้องการการปฏิรูปเพิ่มเติมเพื่อให้แน่ใจว่าการเติบโตอย่างยั่งยืน\n",
      "\n",
      "- ดัชนีคอมโพสิตเซี่ยงไฮ้ (Shanghai Composite Index) เพิ่มขึ้น 8.06% ในวันเดียวและเพิ่มขึ้นเกือบ 22% ตั้งแต่วันที่ 20 กันยายน\n",
      "- ธนาคารประชาชนจีน (People's Bank of China) วางแผนที่จะลดอัตราส่วนเงินสำรอง (reserve requirement ratio) ลง 50 จุดพื้นฐาน ซึ่งอาจปล่อยเงินประมาณ 1 ล้านล้านหยวนสำหรับการปล่อยกู้\n",
      "- แม้จะมีการฟื้นตัวของตลาดหุ้น แต่ก็ยังมีความกังวลเกี่ยวกับความต้องการสินเชื่อที่อ่อนแอและความจำเป็นในการปฏิรูปเศรษฐกิจที่ยั่งยืนมากขึ้นเพื่อดึงดูดการลงทุนระยะยาวจากต่างประเทศ\n",
      "----------------------------------------------\n",
      "English version:\n",
      "The Japanese stock market experienced fluctuations due to various economic factors. The yen's depreciation against the U.S. dollar, influenced by Prime Minister Shigeru Ishiba's comments on interest rates, led to a rise in Tokyo stocks, particularly benefiting export-oriented companies. However, the market faced a weekly decline due to investor uncertainty over Ishiba's shifting stance on monetary policy and the resolution of a U.S. dock workers strike, which affected shipping stocks. Additionally, rising oil prices due to Middle East tensions impacted energy shares positively.\n",
      "\n",
      "- The yen's fall boosted export companies, leading to a temporary rise in the Nikkei index.\n",
      "- Prime Minister Ishiba's comments on interest rates created market uncertainty, contributing to a weekly decline in stocks.\n",
      "- The resolution of a U.S. dock workers strike negatively impacted shipping stocks, adding to market volatility.\n",
      "- Rising oil prices due to geopolitical tensions supported gains in energy-related shares.\n",
      "Thai version:\n",
      "ตลาดหุ้นญี่ปุ่นประสบกับความผันผวนเนื่องจากปัจจัยทางเศรษฐกิจต่างๆ การลดลงของค่าเงินเยน (yen) เมื่อเทียบกับดอลลาร์สหรัฐ (U.S. dollar) ซึ่งได้รับอิทธิพลจากความคิดเห็นของนายกรัฐมนตรีชิเกรุ อิชิบะ (Shigeru Ishiba) เกี่ยวกับอัตราดอกเบี้ย ทำให้หุ้นในโตเกียวปรับตัวสูงขึ้น โดยเฉพาะบริษัทที่เน้นการส่งออก อย่างไรก็ตาม ตลาดเผชิญกับการลดลงรายสัปดาห์เนื่องจากความไม่แน่นอนของนักลงทุนเกี่ยวกับท่าทีที่เปลี่ยนไปของอิชิบะในเรื่องนโยบายการเงิน และการแก้ไขปัญหาการนัดหยุดงานของคนงานท่าเรือสหรัฐ (U.S. dock workers strike) ซึ่งส่งผลกระทบต่อหุ้นการขนส่ง นอกจากนี้ ราคาน้ำมันที่เพิ่มขึ้นเนื่องจากความตึงเครียดในตะวันออกกลางส่งผลดีต่อหุ้นพลังงาน\n",
      "\n",
      "- การลดลงของค่าเงินเยน (yen) ช่วยเพิ่มกำไรให้กับบริษัทส่งออก นำไปสู่การเพิ่มขึ้นชั่วคราวในดัชนีนิกเคอิ (Nikkei index)\n",
      "- ความคิดเห็นของนายกรัฐมนตรีอิชิบะ (Ishiba) เกี่ยวกับอัตราดอกเบี้ยสร้างความไม่แน่นอนในตลาด ซึ่งส่งผลให้หุ้นลดลงรายสัปดาห์\n",
      "- การแก้ไขปัญหาการนัดหยุดงานของคนงานท่าเรือสหรัฐ (U.S. dock workers strike) ส่งผลลบต่อหุ้นการขนส่ง เพิ่มความผันผวนในตลาด\n",
      "- ราคาน้ำมันที่เพิ่มขึ้นเนื่องจากความตึงเครียดทางภูมิรัฐศาสตร์สนับสนุนการเพิ่มขึ้นของหุ้นที่เกี่ยวข้องกับพลังงาน\n",
      "----------------------------------------------\n"
     ]
    }
   ],
   "source": [
    "for r in region_list:\n",
    "    news_summarize('2024-10-04', '2024-10-05', r)"
   ]
  },
  {
   "cell_type": "code",
   "execution_count": null,
   "metadata": {},
   "outputs": [],
   "source": []
  }
 ],
 "metadata": {
  "kernelspec": {
   "display_name": "base",
   "language": "python",
   "name": "python3"
  },
  "language_info": {
   "codemirror_mode": {
    "name": "ipython",
    "version": 3
   },
   "file_extension": ".py",
   "mimetype": "text/x-python",
   "name": "python",
   "nbconvert_exporter": "python",
   "pygments_lexer": "ipython3",
   "version": "3.12.4"
  }
 },
 "nbformat": 4,
 "nbformat_minor": 2
}
