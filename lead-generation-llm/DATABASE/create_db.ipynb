{
 "cells": [
  {
   "cell_type": "code",
   "execution_count": 1,
   "id": "50814e6c",
   "metadata": {},
   "outputs": [],
   "source": [
    "import pandas as pd\n",
    "import sqlalchemy\n",
    "from datetime import datetime"
   ]
  },
  {
   "cell_type": "code",
   "execution_count": 2,
   "id": "255f2fb9",
   "metadata": {},
   "outputs": [],
   "source": [
    "df_customer = pd.read_csv('customer.csv')\n",
    "df_transaction_purchase = pd.read_csv('transaction_purchase.csv')\n",
    "df_product_name = pd.read_csv('product_name.csv')"
   ]
  },
  {
   "cell_type": "code",
   "execution_count": 3,
   "id": "764782af",
   "metadata": {},
   "outputs": [
    {
     "data": {
      "text/plain": [
       "10"
      ]
     },
     "execution_count": 3,
     "metadata": {},
     "output_type": "execute_result"
    }
   ],
   "source": [
    "engine = sqlalchemy.create_engine(f\"sqlite:///main_db.db\")\n",
    "df_customer.to_sql(\"customer\", engine, index=False, if_exists='replace')\n",
    "df_transaction_purchase.to_sql(\"transaction_purchase\", engine, index=False, if_exists='replace')\n",
    "df_product_name.to_sql(\"product_name\", engine, index=False, if_exists='replace')"
   ]
  }
 ],
 "metadata": {
  "kernelspec": {
   "display_name": "base",
   "language": "python",
   "name": "python3"
  },
  "language_info": {
   "codemirror_mode": {
    "name": "ipython",
    "version": 3
   },
   "file_extension": ".py",
   "mimetype": "text/x-python",
   "name": "python",
   "nbconvert_exporter": "python",
   "pygments_lexer": "ipython3",
   "version": "3.12.7"
  }
 },
 "nbformat": 4,
 "nbformat_minor": 5
}
